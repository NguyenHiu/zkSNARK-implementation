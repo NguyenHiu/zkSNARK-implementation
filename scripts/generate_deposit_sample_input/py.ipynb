{
 "cells": [
  {
   "cell_type": "code",
   "execution_count": 8,
   "metadata": {},
   "outputs": [],
   "source": [
    "def do(num):\n",
    "    res = []\n",
    "    x = 1<<8\n",
    "    while (num > 0):\n",
    "        res.append(num%x)\n",
    "        num = num >> 8\n",
    "    return res"
   ]
  },
  {
   "cell_type": "code",
   "execution_count": 5,
   "metadata": {},
   "outputs": [],
   "source": [
    "num1 = 49522227874028724089051452893096177362093720364222476856834356608154221660401\n",
    "num2 = 49522227874028724507497549296282273002227796392842059537261638585036952305664"
   ]
  },
  {
   "cell_type": "code",
   "execution_count": 10,
   "metadata": {},
   "outputs": [
    {
     "name": "stdout",
     "output_type": "stream",
     "text": [
      "[0, 0, 0, 0, 0, 0, 0, 0, 0, 0, 0, 0, 0, 0, 0, 0, 0, 0, 0, 0, 0, 0, 0, 0, 0, 68, 203, 66, 114, 150, 124, 109]\n",
      "[241, 200, 43, 91, 205, 129, 78, 93, 75, 196, 27, 18, 162, 91, 90, 154, 232, 217, 158, 45, 117, 232, 114, 86, 189, 67, 203, 66, 114, 150, 124, 109]\n"
     ]
    }
   ],
   "source": [
    "print(do(num2))\n",
    "print(do(num1))"
   ]
  }
 ],
 "metadata": {
  "kernelspec": {
   "display_name": "Python 3",
   "language": "python",
   "name": "python3"
  },
  "language_info": {
   "codemirror_mode": {
    "name": "ipython",
    "version": 3
   },
   "file_extension": ".py",
   "mimetype": "text/x-python",
   "name": "python",
   "nbconvert_exporter": "python",
   "pygments_lexer": "ipython3",
   "version": "3.10.12"
  },
  "orig_nbformat": 4
 },
 "nbformat": 4,
 "nbformat_minor": 2
}
